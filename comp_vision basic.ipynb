{
 "cells": [
  {
   "cell_type": "code",
   "execution_count": null,
   "metadata": {},
   "outputs": [],
   "source": [
    "import cv2\n",
    "import matplotlib.pyplot as plt\n",
    "import numpy as np"
   ]
  },
  {
   "cell_type": "code",
   "execution_count": null,
   "metadata": {},
   "outputs": [],
   "source": [
    "img=cv2.imread('dg6.jpeg',cv2.IMREAD_GRAYSCALE) # =0\n",
    "#img1=cv2.imreade('dg.jpg',cv2.IMREAD_COLOR)   =1\n",
    "#img2=cv2.imread('dg.jpg',cv2.IMREAD_UNCHANGED)  =-1\n",
    "\n",
    " "
   ]
  },
  {
   "cell_type": "code",
   "execution_count": null,
   "metadata": {},
   "outputs": [],
   "source": [
    "cv2.imshow('image',img)  # to show image 'image ' is here window name\n",
    "cv2.waitKey(0)   #wait till any key is pressed\n",
    "cv2.destroyAllWindows()  # destroy the window when key is pressed"
   ]
  },
  {
   "cell_type": "code",
   "execution_count": null,
   "metadata": {},
   "outputs": [],
   "source": [
    "# SHOW IMG USING MATPLOT LIB\n",
    "plt.imshow(img,cmap='gray',interpolation='bicubic')\n",
    "plt.plot([80,100],[50,250],'r',linewidth=6)  #THIS PLOT Y VS X GRAPH\n",
    "plt.show()"
   ]
  },
  {
   "cell_type": "code",
   "execution_count": null,
   "metadata": {},
   "outputs": [],
   "source": [
    "# TO SAVE THE IMAGE \n",
    "cv2.imwrite('ndg6.png',img)"
   ]
  },
  {
   "cell_type": "code",
   "execution_count": null,
   "metadata": {},
   "outputs": [],
   "source": []
  }
 ],
 "metadata": {
  "kernelspec": {
   "display_name": "Python 3",
   "language": "python",
   "name": "python3"
  },
  "language_info": {
   "codemirror_mode": {
    "name": "ipython",
    "version": 3
   },
   "file_extension": ".py",
   "mimetype": "text/x-python",
   "name": "python",
   "nbconvert_exporter": "python",
   "pygments_lexer": "ipython3",
   "version": "3.7.3"
  }
 },
 "nbformat": 4,
 "nbformat_minor": 2
}
