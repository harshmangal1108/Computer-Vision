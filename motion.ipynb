{
 "cells": [
  {
   "cell_type": "code",
   "execution_count": 3,
   "metadata": {},
   "outputs": [],
   "source": [
    "import cv2\n"
   ]
  },
  {
   "cell_type": "code",
   "execution_count": 4,
   "metadata": {},
   "outputs": [],
   "source": [
    "cap=cv2.VideoCapture(0)\n",
    "tp1=cap.read()[1]  #TAKES 1\n",
    "tp2=cap.read()[1]\n",
    "tp3=cap.read()[1]\n"
   ]
  },
  {
   "cell_type": "code",
   "execution_count": 5,
   "metadata": {},
   "outputs": [],
   "source": [
    "# to make more perfect \\\n",
    "g1=cv2.cvtColor(tp1,cv2.COLOR_BGR2GRAY)\n",
    "g2=cv2.cvtColor(tp2,cv2.COLOR_BGR2GRAY)\n",
    "g3=cv2.cvtColor(tp3,cv2.COLOR_BGR2GRAY)"
   ]
  },
  {
   "cell_type": "code",
   "execution_count": 6,
   "metadata": {},
   "outputs": [],
   "source": [
    "##DIFF\n",
    "def imdif(x,y,z):\n",
    "    # diff bw x & y    g1,g2    d1\n",
    "    d1=cv2.absdiff(x,y)\n",
    "  # diff bw y & z   g2,g3  d2\n",
    "    d2=cv2.absdiff(y,z)\n",
    "    # absolute diff   d1 and d2 \n",
    "    finalimg=cv2.bitwise_and(d1,d2)\n",
    "    return finalimg\n",
    "    "
   ]
  },
  {
   "cell_type": "code",
   "execution_count": 7,
   "metadata": {},
   "outputs": [],
   "source": [
    "while cap.isOpened():\n",
    "    motionimage=status,frame=cap.read()\n",
    "    imdif(g1,g2,g3)\n",
    "    g1=g2\n",
    "    g2=g3\n",
    "    g3=cv2.cvtColor(frame,cv2.COLOR_BGR2GRAY)\n",
    "    cv2.imshow('live',frame)\n",
    "    cv2.imshow('motion',frame)\n",
    "    if cv2.waitKey(0) & 0xFF == ord('q'):\n",
    "       break\n",
    "    "
   ]
  },
  {
   "cell_type": "code",
   "execution_count": null,
   "metadata": {},
   "outputs": [],
   "source": []
  }
 ],
 "metadata": {
  "kernelspec": {
   "display_name": "Python 3",
   "language": "python",
   "name": "python3"
  },
  "language_info": {
   "codemirror_mode": {
    "name": "ipython",
    "version": 3
   },
   "file_extension": ".py",
   "mimetype": "text/x-python",
   "name": "python",
   "nbconvert_exporter": "python",
   "pygments_lexer": "ipython3",
   "version": "3.7.3"
  }
 },
 "nbformat": 4,
 "nbformat_minor": 2
}
